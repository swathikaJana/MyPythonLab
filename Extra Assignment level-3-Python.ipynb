{
 "cells": [
  {
   "cell_type": "code",
   "execution_count": 2,
   "id": "637cd10f-e017-4d02-bc07-3f42bf2091d3",
   "metadata": {},
   "outputs": [
    {
     "name": "stdout",
     "output_type": "stream",
     "text": [
      "value: 10 \n",
      "Correct\n"
     ]
    }
   ],
   "source": [
    "i=10\n",
    "if(i==10):\n",
    "    print(\"value:\",10 , \"\\nCorrect\")"
   ]
  },
  {
   "cell_type": "code",
   "execution_count": 12,
   "id": "5dd07746-c102-471c-b1e4-040ae86800b6",
   "metadata": {},
   "outputs": [
    {
     "name": "stdin",
     "output_type": "stream",
     "text": [
      "Enter your Password: HOPE@123\n"
     ]
    },
    {
     "name": "stdout",
     "output_type": "stream",
     "text": [
      "Your Password is Correct\n"
     ]
    }
   ],
   "source": [
    "p=input(\"Enter your Password:\" ) \n",
    "if(p==\"HOPE@123\"):\n",
    "       print(\"Your Password is Correct\")"
   ]
  },
  {
   "cell_type": "code",
   "execution_count": 15,
   "id": "4aa503a2-3430-4697-b8ec-c9508eca0a85",
   "metadata": {},
   "outputs": [
    {
     "name": "stdin",
     "output_type": "stream",
     "text": [
      "age 28\n"
     ]
    },
    {
     "name": "stdout",
     "output_type": "stream",
     "text": [
      "Adult\n"
     ]
    }
   ],
   "source": [
    "age=input(\"age\")\n",
    "if(int(age)<16):\n",
    "    print(\"Children\")\n",
    "elif(int(age) >16 and int(age) <30):\n",
    "    print(\"Adult\")\n",
    "elif(int(age)>30 and int(age)<60):\n",
    "    print(\"Citizen\")\n",
    "elif(int(age)>60):\n",
    "    print(\"Senior Citizen\")"
   ]
  },
  {
   "cell_type": "code",
   "execution_count": 23,
   "id": "b47d9816-461a-4fe4-9656-a3c3a0fa5d68",
   "metadata": {},
   "outputs": [
    {
     "name": "stdin",
     "output_type": "stream",
     "text": [
      "Enter a number 28\n"
     ]
    },
    {
     "name": "stdout",
     "output_type": "stream",
     "text": [
      "No is positive\n"
     ]
    }
   ],
   "source": [
    "num=input(\"Enter a number\")\n",
    "if(float(num)>0):\n",
    "    print(\"No is positive\")\n",
    "else:\n",
    "    print(\"No is Negative\")"
   ]
  },
  {
   "cell_type": "code",
   "execution_count": 26,
   "id": "16d6c8dc-67dd-4ed9-8703-feba08487643",
   "metadata": {},
   "outputs": [
    {
     "name": "stdin",
     "output_type": "stream",
     "text": [
      "Enter a num to check 22\n"
     ]
    },
    {
     "name": "stdout",
     "output_type": "stream",
     "text": [
      "No is not divisible by 5\n"
     ]
    }
   ],
   "source": [
    "num=input(\"Enter a num to check\")\n",
    "if(int(num)%5==0):\n",
    "    print(\"No is divisible by 5\")\n",
    "else:\n",
    "    print(\"No is not divisible by 5\")"
   ]
  },
  {
   "cell_type": "code",
   "execution_count": null,
   "id": "e69b8684-4e73-44f7-89f9-520497eceaef",
   "metadata": {},
   "outputs": [],
   "source": []
  }
 ],
 "metadata": {
  "kernelspec": {
   "display_name": "Python 3 (ipykernel)",
   "language": "python",
   "name": "python3"
  },
  "language_info": {
   "codemirror_mode": {
    "name": "ipython",
    "version": 3
   },
   "file_extension": ".py",
   "mimetype": "text/x-python",
   "name": "python",
   "nbconvert_exporter": "python",
   "pygments_lexer": "ipython3",
   "version": "3.13.5"
  }
 },
 "nbformat": 4,
 "nbformat_minor": 5
}
