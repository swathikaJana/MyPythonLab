{
 "cells": [
  {
   "cell_type": "code",
   "execution_count": 2,
   "id": "23dedbf7-7375-4d6e-8caa-cdacb8585185",
   "metadata": {},
   "outputs": [
    {
     "name": "stdout",
     "output_type": "stream",
     "text": [
      "0\n",
      "1\n",
      "2\n",
      "3\n",
      "4\n"
     ]
    }
   ],
   "source": [
    "#1.Find the error in the following Python code:\n",
    "\n",
    "for i in range(5):\n",
    "    print(i)"
   ]
  },
  {
   "cell_type": "code",
   "execution_count": 5,
   "id": "809232d7-7b51-456f-9cee-a78ef0fbba19",
   "metadata": {},
   "outputs": [
    {
     "name": "stdout",
     "output_type": "stream",
     "text": [
      "15\n"
     ]
    }
   ],
   "source": [
    "#2.What will be the output of this code?\n",
    "\n",
    "a = 10\n",
    "b = 5\n",
    "print(a + b)\n",
    " "
   ]
  },
  {
   "cell_type": "code",
   "execution_count": 12,
   "id": "1043a6f9-f400-47c9-ba28-430a96997414",
   "metadata": {},
   "outputs": [
    {
     "data": {
      "text/plain": [
       "25"
      ]
     },
     "execution_count": 12,
     "metadata": {},
     "output_type": "execute_result"
    }
   ],
   "source": [
    "#3.What is the issue in this Python snippet?\n",
    "a = 5\n",
    "b = 20\n",
    "def add_numbers(a, b):\n",
    "    return a + b\n",
    "\n",
    "add_numbers(a,b)\n"
   ]
  },
  {
   "cell_type": "code",
   "execution_count": 13,
   "id": "42df35b5-c3a7-42a2-a0a4-4e04f44b71a1",
   "metadata": {},
   "outputs": [
    {
     "name": "stdout",
     "output_type": "stream",
     "text": [
      "4\n"
     ]
    }
   ],
   "source": [
    "#4.Identify the bug in the following Python code:\n",
    "\n",
    "numbers = [1, 2, 3, 4]\n",
    "print(numbers[3])\n"
   ]
  },
  {
   "cell_type": "code",
   "execution_count": 15,
   "id": "f171eea6-f7e7-45aa-80a8-a5d1d1ca32ab",
   "metadata": {},
   "outputs": [
    {
     "name": "stdout",
     "output_type": "stream",
     "text": [
      "Hello, World!\n"
     ]
    }
   ],
   "source": [
    "#5.Find the error in the following Python code:\n",
    "print (f\"Hello, World!\")"
   ]
  },
  {
   "cell_type": "code",
   "execution_count": 17,
   "id": "bced1669-74d4-41ff-b467-9b6d72334b10",
   "metadata": {},
   "outputs": [],
   "source": [
    "#6.Find the error in the following Python code:\n",
    "x = 5 / 1\n",
    "\n",
    "#ZeroDivison error not allowed either in maths nor python "
   ]
  },
  {
   "cell_type": "code",
   "execution_count": 22,
   "id": "42f54c7b-a6f2-4f36-9ea9-baacadb6187c",
   "metadata": {},
   "outputs": [
    {
     "name": "stdout",
     "output_type": "stream",
     "text": [
      "Name: Alice , Age: 25\n"
     ]
    }
   ],
   "source": [
    "#7.Find the error in the following Python code:\n",
    "name = \"Alice\"\n",
    "age = 25\n",
    "print(f\"Name: {name} , Age: {age}\")\n"
   ]
  },
  {
   "cell_type": "code",
   "execution_count": 24,
   "id": "700a7e8a-a685-4938-abd2-37aba1902d54",
   "metadata": {},
   "outputs": [],
   "source": [
    "#8.Find the error\n",
    "for i in range(1, 10, -1):\n",
    "    print(i)\n",
    "\n",
    "# Answer: This cause infinte loop"
   ]
  },
  {
   "cell_type": "code",
   "execution_count": 26,
   "id": "5d8a6828-ef53-4df3-a5d2-9e92a479113d",
   "metadata": {},
   "outputs": [],
   "source": [
    "x = 10\n",
    "if x == 5:\n",
    "    print(\"x is 5\")"
   ]
  },
  {
   "cell_type": "code",
   "execution_count": 31,
   "id": "0c5e0271-01b9-42cd-8f80-a28bbc119cea",
   "metadata": {},
   "outputs": [
    {
     "name": "stdout",
     "output_type": "stream",
     "text": [
      "Hello, Alice\n"
     ]
    }
   ],
   "source": [
    "#10. Identify the error in the following function definition:\n",
    "\n",
    "def greet(name):\n",
    "    print(\"Hello, \" + name)\n",
    "greet(name)\n",
    "\n",
    "#Error no : after function def and dint call function."
   ]
  },
  {
   "cell_type": "code",
   "execution_count": null,
   "id": "7e83c783-833b-43f1-898b-44ba6acbd77a",
   "metadata": {},
   "outputs": [],
   "source": []
  }
 ],
 "metadata": {
  "kernelspec": {
   "display_name": "Python 3 (ipykernel)",
   "language": "python",
   "name": "python3"
  },
  "language_info": {
   "codemirror_mode": {
    "name": "ipython",
    "version": 3
   },
   "file_extension": ".py",
   "mimetype": "text/x-python",
   "name": "python",
   "nbconvert_exporter": "python",
   "pygments_lexer": "ipython3",
   "version": "3.13.5"
  }
 },
 "nbformat": 4,
 "nbformat_minor": 5
}
