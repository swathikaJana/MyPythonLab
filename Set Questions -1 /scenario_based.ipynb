{
 "cells": [
  {
   "cell_type": "code",
   "execution_count": 6,
   "id": "d0eac549-a527-47c5-b376-e80abf9844f8",
   "metadata": {},
   "outputs": [
    {
     "name": "stdin",
     "output_type": "stream",
     "text": [
      "Enter the age of the person to vote 12\n"
     ]
    },
    {
     "name": "stdout",
     "output_type": "stream",
     "text": [
      "You are not eligible to vote\n"
     ]
    }
   ],
   "source": [
    "#User eligible to Vote\n",
    "age=int(input(\"Enter the age of the person to vote\"))\n",
    "if age >= 18:\n",
    "    print(\"You are eligible to vote\")\n",
    "else:\n",
    "    print(\"You are not eligible to vote\")"
   ]
  },
  {
   "cell_type": "code",
   "execution_count": 18,
   "id": "f4e3ff3f-ac1f-42c3-861a-d662b183cbdc",
   "metadata": {},
   "outputs": [
    {
     "name": "stdout",
     "output_type": "stream",
     "text": [
      " The Greatest num is 78 \n"
     ]
    }
   ],
   "source": [
    "#Find largest number in list\n",
    "\n",
    "numbers=[24, 22, 13, 46, 78, 12]\n",
    "largest = numbers[0]\n",
    "for i in numbers:\n",
    "    if i > chek_num:\n",
    "        largest = i\n",
    "print(f\" The Greatest num is {largest} \")\n",
    "    "
   ]
  },
  {
   "cell_type": "code",
   "execution_count": 25,
   "id": "cb1a5f9a-7aef-42f3-9fec-5f486d50d6a4",
   "metadata": {},
   "outputs": [
    {
     "name": "stdin",
     "output_type": "stream",
     "text": [
      "Enter the salary 55000\n"
     ]
    },
    {
     "name": "stdout",
     "output_type": "stream",
     "text": [
      "The Bonus is $5500.0\n"
     ]
    }
   ],
   "source": [
    "Salary=int(input(\"Enter the salary\"))\n",
    "if Salary > 50000:\n",
    "    print (f\"The Bonus is ${(Salary*10)/100}\")\n",
    "else:\n",
    "    print (f\"Sorry your Salary ${Salary} doesnot qualify for bonus\")\n"
   ]
  },
  {
   "cell_type": "code",
   "execution_count": 32,
   "id": "b2cb0f11-1c54-4bbe-8407-05ce16ec42d9",
   "metadata": {},
   "outputs": [
    {
     "name": "stdin",
     "output_type": "stream",
     "text": [
      "Enter the number 4\n"
     ]
    },
    {
     "name": "stdout",
     "output_type": "stream",
     "text": [
      "The number is even\n"
     ]
    }
   ],
   "source": [
    "number=int(input(\"Enter the number\"))\n",
    "num=number%2\n",
    "if num==0:\n",
    "    print(\"The number is even\")\n",
    "else:\n",
    "    print(\"The number is odd\")\n"
   ]
  },
  {
   "cell_type": "code",
   "execution_count": 51,
   "id": "7221a20a-53c0-4cb8-b555-fa8faee846af",
   "metadata": {},
   "outputs": [
    {
     "name": "stdin",
     "output_type": "stream",
     "text": [
      " Enter the word dog\n"
     ]
    },
    {
     "name": "stdout",
     "output_type": "stream",
     "text": [
      "god\n"
     ]
    }
   ],
   "source": [
    "word = input(\" Enter the word\")\n",
    "reverse = \"\"\n",
    "for i in word:\n",
    "    reverse = i + reverse\n",
    "print (reverse)\n"
   ]
  },
  {
   "cell_type": "code",
   "execution_count": 56,
   "id": "42e2a4f1-d214-42be-8578-522a2a2c60ff",
   "metadata": {},
   "outputs": [
    {
     "name": "stdin",
     "output_type": "stream",
     "text": [
      "Enter the marks 88\n"
     ]
    },
    {
     "name": "stdout",
     "output_type": "stream",
     "text": [
      "You Passed\n"
     ]
    }
   ],
   "source": [
    "Subject=int(input(\"Enter the marks\"))\n",
    "if Subject > 40:\n",
    "    print(\"You Passed\")\n",
    "else:\n",
    "    print(\"You failed\")\n"
   ]
  },
  {
   "cell_type": "code",
   "execution_count": 57,
   "id": "37949a2b-9c9a-4617-af15-7edb76b47128",
   "metadata": {},
   "outputs": [
    {
     "name": "stdin",
     "output_type": "stream",
     "text": [
      "Enter Bill amount 500\n"
     ]
    },
    {
     "name": "stdout",
     "output_type": "stream",
     "text": [
      "(Amount to pay after discount: $400.0)\n"
     ]
    }
   ],
   "source": [
    "Bill_Amt=int(input(\"Enter Bill amount\"))\n",
    "if (Bill_Amt>100):\n",
    "    discount=(Bill_Amt*20)/100\n",
    "    Amt_pay= Bill_Amt-discount\n",
    "    print(f\"(Amount to pay after discount: ${Amt_pay})\")\n",
    "else:\n",
    "    print(f\"(Amount to pay: ${Bill_Amt})\")\n",
    "\n",
    "             "
   ]
  },
  {
   "cell_type": "code",
   "execution_count": 58,
   "id": "509b072b-a24d-434e-9c96-be057c0aa502",
   "metadata": {},
   "outputs": [
    {
     "name": "stdin",
     "output_type": "stream",
     "text": [
      "Enter the amount to withdraw 500\n",
      "Enter the balance 5000\n"
     ]
    },
    {
     "name": "stdout",
     "output_type": "stream",
     "text": [
      "Withdraw process can be done\n"
     ]
    }
   ],
   "source": [
    "Amount=input(\"Enter the amount to withdraw\")\n",
    "Balance = input(\"Enter the balance\")\n",
    "if Amount > Balance:\n",
    "    print(\" there is no sufficent Balance\")\n",
    "else:\n",
    "    print(\"Withdraw process can be done\")"
   ]
  },
  {
   "cell_type": "code",
   "execution_count": 59,
   "id": "d7dad0b6-cd2e-496e-823d-5bc3b60fc459",
   "metadata": {},
   "outputs": [
    {
     "name": "stdin",
     "output_type": "stream",
     "text": [
      "Enter a year:  2025\n"
     ]
    },
    {
     "name": "stdout",
     "output_type": "stream",
     "text": [
      "2025 is NOT a Leap Year\n"
     ]
    }
   ],
   "source": [
    "year = int(input(\"Enter a year: \"))\n",
    "\n",
    "if (year % 400 == 0) or (year % 4 == 0 and year % 100 != 0):\n",
    "    print(f\"{year} is a Leap Year\")\n",
    "else:\n",
    "    print(f\"{year} is NOT a Leap Year\")\n"
   ]
  },
  {
   "cell_type": "code",
   "execution_count": 60,
   "id": "362d0535-a6ca-47f7-b849-b4f3f1bfee48",
   "metadata": {},
   "outputs": [
    {
     "name": "stdout",
     "output_type": "stream",
     "text": [
      "[2, 4, 6, 8, 10]\n"
     ]
    }
   ],
   "source": [
    "numbers = [1, 2, 3, 4, 5, 6, 7, 8, 9, 10]\n",
    "even_numbers = []\n",
    "for num in numbers:\n",
    "    if num % 2 == 0:  # even check\n",
    "        even_numbers.append(num)\n",
    "\n",
    "print(even_numbers)\n"
   ]
  },
  {
   "cell_type": "code",
   "execution_count": null,
   "id": "6537fd0a-4f72-4e82-be64-1719d5e856b5",
   "metadata": {},
   "outputs": [],
   "source": []
  }
 ],
 "metadata": {
  "kernelspec": {
   "display_name": "Python 3 (ipykernel)",
   "language": "python",
   "name": "python3"
  },
  "language_info": {
   "codemirror_mode": {
    "name": "ipython",
    "version": 3
   },
   "file_extension": ".py",
   "mimetype": "text/x-python",
   "name": "python",
   "nbconvert_exporter": "python",
   "pygments_lexer": "ipython3",
   "version": "3.13.5"
  }
 },
 "nbformat": 4,
 "nbformat_minor": 5
}
