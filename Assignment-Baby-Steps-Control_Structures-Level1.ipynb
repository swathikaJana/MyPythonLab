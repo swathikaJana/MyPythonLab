{
 "cells": [
  {
   "cell_type": "code",
   "execution_count": 1,
   "id": "4309df37-f4d6-4e6c-a7ee-3aa5b19aaf3d",
   "metadata": {},
   "outputs": [
    {
     "name": "stdout",
     "output_type": "stream",
     "text": [
      "Welcome to Assignment-1\n"
     ]
    }
   ],
   "source": [
    "print(\"Welcome to Assignment-1\") "
   ]
  },
  {
   "cell_type": "code",
   "execution_count": 5,
   "id": "78927d6e-7f3c-403a-b2cd-95c610f82a3e",
   "metadata": {},
   "outputs": [
    {
     "name": "stdout",
     "output_type": "stream",
     "text": [
      "Add 40\n"
     ]
    }
   ],
   "source": [
    "Num1=10\n",
    "Num2=30\n",
    "print(\"Add\",int(Num1+Num2))\n"
   ]
  },
  {
   "cell_type": "code",
   "execution_count": 29,
   "id": "629ee676-34f8-424b-8d9c-d4b32ac17ff5",
   "metadata": {},
   "outputs": [
    {
     "name": "stdin",
     "output_type": "stream",
     "text": [
      "Enter the BMI 34\n"
     ]
    },
    {
     "name": "stdout",
     "output_type": "stream",
     "text": [
      "Overweight\n"
     ]
    }
   ],
   "source": [
    "BMI=input(\"Enter the BMI\")\n",
    "if(float(BMI) < 18.5):\n",
    "    print(\"UnderWeight\")\n",
    "elif(float(BMI) >= 18.5 and float(BMI) <= 24.9):\n",
    "    print(\"Normal Weight\")\n",
    "elif(float(BMI)>=25 and float(BMI)<= 29.9):\n",
    "    print(\"Fat\") \n",
    "elif(float(BMI)>=30):\n",
    "    print(\"Overweight\")\n"
   ]
  },
  {
   "cell_type": "code",
   "execution_count": null,
   "id": "0eb50c67-6a84-4c0c-b813-fa393c0e3e52",
   "metadata": {},
   "outputs": [],
   "source": [
    "\n"
   ]
  }
 ],
 "metadata": {
  "kernelspec": {
   "display_name": "Python 3 (ipykernel)",
   "language": "python",
   "name": "python3"
  },
  "language_info": {
   "codemirror_mode": {
    "name": "ipython",
    "version": 3
   },
   "file_extension": ".py",
   "mimetype": "text/x-python",
   "name": "python",
   "nbconvert_exporter": "python",
   "pygments_lexer": "ipython3",
   "version": "3.13.5"
  }
 },
 "nbformat": 4,
 "nbformat_minor": 5
}
