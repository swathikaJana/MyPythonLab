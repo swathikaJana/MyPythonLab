{
 "cells": [
  {
   "cell_type": "code",
   "execution_count": 6,
   "id": "ecf81e7c-72ff-4fe9-91c0-617c4155817f",
   "metadata": {},
   "outputs": [
    {
     "name": "stdout",
     "output_type": "stream",
     "text": [
      "0\n",
      "1\n",
      "2\n",
      "3\n",
      "4\n",
      "5\n",
      "6\n",
      "7\n",
      "8\n",
      "9\n",
      "10\n",
      "11\n",
      "12\n",
      "13\n",
      "14\n",
      "15\n",
      "16\n",
      "17\n",
      "18\n",
      "19\n"
     ]
    }
   ],
   "source": [
    "for i in range(0,20,1):\n",
    " print(i)"
   ]
  },
  {
   "cell_type": "code",
   "execution_count": 9,
   "id": "f429732d-91a9-4db6-8868-a0cd492b1c1c",
   "metadata": {},
   "outputs": [
    {
     "name": "stdout",
     "output_type": "stream",
     "text": [
      "10\n",
      "11\n",
      "12\n",
      "13\n",
      "14\n",
      "15\n",
      "16\n",
      "17\n",
      "18\n",
      "19\n"
     ]
    }
   ],
   "source": [
    "for i in range(10,20,1):\n",
    "    print(i)"
   ]
  },
  {
   "cell_type": "code",
   "execution_count": 14,
   "id": "96593d0b-d856-4807-967a-06ad1c1328a5",
   "metadata": {},
   "outputs": [
    {
     "name": "stdout",
     "output_type": "stream",
     "text": [
      "Number of items in the list 7\n"
     ]
    }
   ],
   "source": [
    "items =[10,20,14,55,43,87,76]\n",
    "print(\"Number of items in the list\",len(items))"
   ]
  },
  {
   "cell_type": "code",
   "execution_count": 17,
   "id": "f5010406-57ab-4e6d-8427-5c03ed9e7770",
   "metadata": {},
   "outputs": [
    {
     "name": "stdout",
     "output_type": "stream",
     "text": [
      "A\n",
      "r\n",
      "t\n",
      "i\n",
      "f\n",
      "i\n",
      "c\n",
      "i\n",
      "a\n",
      "l\n",
      " \n",
      "I\n",
      "n\n",
      "t\n",
      "e\n",
      "l\n",
      "l\n",
      "i\n",
      "g\n",
      "e\n",
      "n\n",
      "c\n",
      "e\n"
     ]
    }
   ],
   "source": [
    "i=\"Artificial Intelligence\"\n",
    "for j in i:\n",
    "    print(j)"
   ]
  },
  {
   "cell_type": "code",
   "execution_count": 27,
   "id": "acc5bc1e-f47a-4095-8522-f51450135fe0",
   "metadata": {},
   "outputs": [
    {
     "name": "stdin",
     "output_type": "stream",
     "text": [
      "-your Name -: Swathi\n",
      "-Your Age- : 40\n",
      "-Your profession-: Software Engineer\n"
     ]
    }
   ],
   "source": [
    "A=input(\"-your Name -:\")\n",
    "B=input(\"-Your Age- :\")\n",
    "C=input(\"-Your profession-:\")"
   ]
  },
  {
   "cell_type": "code",
   "execution_count": 30,
   "id": "f345b48c-55d8-4190-b89a-6e9b92ef4d46",
   "metadata": {},
   "outputs": [
    {
     "name": "stdout",
     "output_type": "stream",
     "text": [
      "[1, 'Welcome', 2, 'Hope']\n"
     ]
    }
   ],
   "source": [
    "tup=[1, 'Welcome', 2 , 'Hope']\n",
    "print(tup)"
   ]
  },
  {
   "cell_type": "code",
   "execution_count": 32,
   "id": "4e0c1b77-1c34-4ea6-ab8e-1bcb2735099e",
   "metadata": {},
   "outputs": [
    {
     "name": "stdout",
     "output_type": "stream",
     "text": [
      "(0, 1, 2, 3) ('python', 'HOPE')\n"
     ]
    }
   ],
   "source": [
    "tup=(0, 1, 2, 3)\n",
    "tup1=('python' , 'HOPE')\n",
    "print(tup , tup1)"
   ]
  },
  {
   "cell_type": "code",
   "execution_count": 36,
   "id": "87d30999-a9e4-459a-85b6-26066ae7b8f0",
   "metadata": {},
   "outputs": [
    {
     "name": "stdout",
     "output_type": "stream",
     "text": [
      "19 is odd\n",
      "25 is odd\n",
      "1 is odd\n"
     ]
    }
   ],
   "source": [
    "list=[20,10,16,19,25,1,276,188]\n",
    "for i in list:\n",
    " if(i%2!=0):\n",
    "     print(i,\"is odd\")\n",
    "     "
   ]
  },
  {
   "cell_type": "code",
   "execution_count": 38,
   "id": "528593bd-75a6-4d35-8055-826008f6ddf4",
   "metadata": {},
   "outputs": [
    {
     "name": "stdout",
     "output_type": "stream",
     "text": [
      "20 is odd\n",
      "10 is odd\n",
      "16 is odd\n",
      "19 is odd\n",
      "25 is odd\n",
      "276 is odd\n",
      "188 is odd\n"
     ]
    }
   ],
   "source": [
    "#The formula used in the assignemnt answer is wrong. As to bring the ouput have worked on .\n",
    "list=[20,10,16,19,25,1,276,188]\n",
    "for i in list:\n",
    " if(i/2>1):\n",
    "     print(i,\"is odd\")"
   ]
  },
  {
   "cell_type": "code",
   "execution_count": null,
   "id": "1ca72de5-4141-4d8e-8bcb-027ee9a2722a",
   "metadata": {},
   "outputs": [],
   "source": []
  }
 ],
 "metadata": {
  "kernelspec": {
   "display_name": "Python 3 (ipykernel)",
   "language": "python",
   "name": "python3"
  },
  "language_info": {
   "codemirror_mode": {
    "name": "ipython",
    "version": 3
   },
   "file_extension": ".py",
   "mimetype": "text/x-python",
   "name": "python",
   "nbconvert_exporter": "python",
   "pygments_lexer": "ipython3",
   "version": "3.13.5"
  }
 },
 "nbformat": 4,
 "nbformat_minor": 5
}
