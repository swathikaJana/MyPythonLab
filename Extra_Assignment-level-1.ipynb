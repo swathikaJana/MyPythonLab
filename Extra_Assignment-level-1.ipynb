{
 "cells": [
  {
   "cell_type": "code",
   "execution_count": 1,
   "id": "637cd10f-e017-4d02-bc07-3f42bf2091d3",
   "metadata": {},
   "outputs": [
    {
     "name": "stdout",
     "output_type": "stream",
     "text": [
      "Hope AI\n"
     ]
    }
   ],
   "source": [
    "print(\"Hope AI\")"
   ]
  },
  {
   "cell_type": "code",
   "execution_count": 18,
   "id": "5625e1ae-f425-4a0f-8817-a8fdb49097fd",
   "metadata": {},
   "outputs": [
    {
     "name": "stdin",
     "output_type": "stream",
     "text": [
      "Enter your Institute Name: Hope AI\n"
     ]
    }
   ],
   "source": [
    "Institute_Name = input(\"Enter your Institute Name:\")"
   ]
  },
  {
   "cell_type": "code",
   "execution_count": 19,
   "id": "9c26aebc-414c-43f8-ac73-78c1f1cc5c40",
   "metadata": {},
   "outputs": [
    {
     "name": "stdin",
     "output_type": "stream",
     "text": [
      "Enter your Name: Raj\n",
      "Enter your Age: 15\n",
      "Enter your school: Guru School\n",
      "Enter your degree: BE, CSE\n"
     ]
    }
   ],
   "source": [
    "Name=input(\"Enter your Name:\")\n",
    "Age=input(\"Enter your Age:\")\n",
    "school=input(\"Enter your school:\")\n",
    "degree=input(\"Enter your degree:\")"
   ]
  },
  {
   "cell_type": "code",
   "execution_count": 33,
   "id": "38307cda-023e-4327-8355-c597971cd1dd",
   "metadata": {},
   "outputs": [
    {
     "name": "stdout",
     "output_type": "stream",
     "text": [
      "a= 43 \n",
      "b= 34\n",
      "add= 77\n"
     ]
    }
   ],
   "source": [
    "a=43\n",
    "b=34\n",
    "print(\"a=\",a, \"\\nb=\",b)\n",
    "print(\"add=\",int(a+b))"
   ]
  },
  {
   "cell_type": "code",
   "execution_count": 32,
   "id": "3e0c7ce9-32f8-4552-a2c5-a1b9d5452a82",
   "metadata": {},
   "outputs": [
    {
     "name": "stdout",
     "output_type": "stream",
     "text": [
      "a= 43 \n",
      "b= 34\n",
      "Sub= 9\n"
     ]
    }
   ],
   "source": [
    "a=43\n",
    "b=34\n",
    "print(\"a=\",a, \"\\nb=\",b)\n",
    "print(\"Sub=\",int(a-b))"
   ]
  },
  {
   "cell_type": "code",
   "execution_count": 31,
   "id": "860f0e63-bf0b-4fc3-a2b7-256daa148d17",
   "metadata": {},
   "outputs": [
    {
     "name": "stdout",
     "output_type": "stream",
     "text": [
      "a= 63 \n",
      "b= 97\n",
      "Mul= 6111\n"
     ]
    }
   ],
   "source": [
    "a=63\n",
    "b=97\n",
    "print (\"a=\", a, \"\\nb=\",97)\n",
    "print(\"Mul=\",a*b)"
   ]
  },
  {
   "cell_type": "code",
   "execution_count": 30,
   "id": "bfe8ce84-711a-40d9-bf91-b845de202d5c",
   "metadata": {},
   "outputs": [
    {
     "name": "stdout",
     "output_type": "stream",
     "text": [
      "a= 76 \n",
      "b= 31\n",
      "Float Division= 2.4516129032258065\n"
     ]
    }
   ],
   "source": [
    "a=76\n",
    "b=31\n",
    "print (\"a=\",a, \"\\nb=\",b)\n",
    "print (\"Float Division=\", (a/b))"
   ]
  },
  {
   "cell_type": "code",
   "execution_count": 36,
   "id": "26b651a9-14a4-4546-860f-db4a21b54aaf",
   "metadata": {},
   "outputs": [
    {
     "name": "stdout",
     "output_type": "stream",
     "text": [
      "a= 76 \n",
      "b= 31\n",
      "Floor Division= 2\n"
     ]
    }
   ],
   "source": [
    "import math\n",
    "a=76\n",
    "b=31\n",
    "print (\"a=\",a, \"\\nb=\",b)\n",
    "print (\"Floor Division=\", math.trunc(a/b))"
   ]
  },
  {
   "cell_type": "code",
   "execution_count": 39,
   "id": "0ea480f2-50e0-4a0e-a2d1-421d55e79550",
   "metadata": {},
   "outputs": [
    {
     "name": "stdout",
     "output_type": "stream",
     "text": [
      "a= 76 \n",
      "b= 31\n",
      "modulo= 14\n"
     ]
    }
   ],
   "source": [
    "import math\n",
    "a=76\n",
    "b=31\n",
    "print (\"a=\",a, \"\\nb=\",b)\n",
    "print (\"modulo=\", (a%b))"
   ]
  },
  {
   "cell_type": "code",
   "execution_count": 42,
   "id": "6d493d16-a5e6-48cf-beed-93a32418fe53",
   "metadata": {},
   "outputs": [
    {
     "name": "stdout",
     "output_type": "stream",
     "text": [
      "a= 4 \n",
      "b= 4\n",
      "Power= 256\n"
     ]
    }
   ],
   "source": [
    "import math\n",
    "a=4\n",
    "b=4\n",
    "print (\"a=\",a, \"\\nb=\",b)\n",
    "print (\"Power=\", (a**b))"
   ]
  },
  {
   "cell_type": "code",
   "execution_count": null,
   "id": "c03ed91b-9493-4a9e-a387-28a773ffb604",
   "metadata": {},
   "outputs": [],
   "source": []
  }
 ],
 "metadata": {
  "kernelspec": {
   "display_name": "Python 3 (ipykernel)",
   "language": "python",
   "name": "python3"
  },
  "language_info": {
   "codemirror_mode": {
    "name": "ipython",
    "version": 3
   },
   "file_extension": ".py",
   "mimetype": "text/x-python",
   "name": "python",
   "nbconvert_exporter": "python",
   "pygments_lexer": "ipython3",
   "version": "3.13.5"
  }
 },
 "nbformat": 4,
 "nbformat_minor": 5
}
