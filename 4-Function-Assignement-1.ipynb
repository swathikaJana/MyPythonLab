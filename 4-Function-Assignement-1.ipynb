{
 "cells": [
  {
   "cell_type": "code",
   "execution_count": 18,
   "id": "61fc47fe-cb52-447c-aa60-b4ba4300a134",
   "metadata": {},
   "outputs": [
    {
     "name": "stdout",
     "output_type": "stream",
     "text": [
      "Sub-fields in AI are:\n",
      "Machine Learning\n",
      "Neural Networks\n",
      "Vision\n",
      "Robotics\n",
      "Speech Programming\n",
      "Natural Language Processing\n"
     ]
    }
   ],
   "source": [
    "class SubfieldsInAI():\n",
    "    def Subfields():\n",
    "        field=['Machine Learning', 'Neural Networks', 'Vision', 'Robotics', 'Speech Programming' ,'Natural Language Processing']\n",
    "        print(\"Sub-fields in AI are:\")\n",
    "        for i in field:\n",
    "            print(i)\n",
    "\n",
    "SubfieldsInAI.Subfields()     "
   ]
  },
  {
   "cell_type": "code",
   "execution_count": 22,
   "id": "8e26e8d6-4377-4106-bca3-8e94c43a7556",
   "metadata": {},
   "outputs": [
    {
     "name": "stdin",
     "output_type": "stream",
     "text": [
      "Enter a number 52452\n"
     ]
    },
    {
     "name": "stdout",
     "output_type": "stream",
     "text": [
      "52452 is an even number\n"
     ]
    }
   ],
   "source": [
    "def OddEven():\n",
    "    num=int(input(\"Enter a number\"))\n",
    "    if(num%2==0):\n",
    "      print(num,\"is an even number\")\n",
    "    else:\n",
    "      print(num,\"is an odd number\")\n",
    "OddEven()"
   ]
  },
  {
   "cell_type": "code",
   "execution_count": 60,
   "id": "71e02204-d8a5-46a8-9539-5bed9988de44",
   "metadata": {},
   "outputs": [
    {
     "name": "stdin",
     "output_type": "stream",
     "text": [
      "Enter the Gender Male\n",
      "Enter the Age 28\n"
     ]
    },
    {
     "name": "stdout",
     "output_type": "stream",
     "text": [
      "ELIGIBLE for Marrige\n"
     ]
    }
   ],
   "source": [
    "Gender=input(\"Enter the Gender\")\n",
    "Age=int(input(\"Enter the Age\"))\n",
    "if(Gender==\"Male\"):\n",
    "  EligiblityForMarriage.Eligible_for_Male(Gender,Age)\n",
    "else:\n",
    "  EligiblityForMarriage.Eligible_for_FeMale(Gender,Age)\n",
    "\n",
    "class EligiblityForMarriage():\n",
    "    def Eligible_for_Male(Gender,Age):\n",
    "        if(Age>27):\n",
    "          print(\"ELIGIBLE for Marrige\")\n",
    "        else:\n",
    "          print(\"Not Eligible For Marriage\")\n",
    "        \n",
    " \n",
    "    def Eligible_for_FeMale(Gender,Age):\n",
    "        if(Age>21):\n",
    "          print(\"ELIGIBLE for Marrige\")\n",
    "        else:\n",
    "          print(\"Not Eligible For Marriage\")\n",
    "        \n",
    "\n",
    "\n",
    "    \n",
    "\n",
    "    "
   ]
  },
  {
   "cell_type": "code",
   "execution_count": 119,
   "id": "ac41c205-4501-4da6-b120-4c4975173681",
   "metadata": {},
   "outputs": [
    {
     "name": "stdin",
     "output_type": "stream",
     "text": [
      "Subject 1: 98\n",
      "Subject 2: 87\n",
      "Subject 3: 95\n",
      "Subject 4: 95\n",
      "Subject 5: 93\n"
     ]
    },
    {
     "name": "stdout",
     "output_type": "stream",
     "text": [
      "468\n",
      "Percentage :93.60000000000001%\n"
     ]
    }
   ],
   "source": [
    "numbers=[]\n",
    " \n",
    "class FindPercent():\n",
    "    def percentage(): \n",
    "        for i in range(5):\n",
    "            Sub=int(input(f\"Subject {i+1}:\"))\n",
    "            numbers.append(Sub)       \n",
    "            \n",
    "        Total=sum(numbers)\n",
    "        print(Total)\n",
    "        percent=(Total/500)*100\n",
    "        print(f\"Percentage :{percent}%\")\n",
    "FindPercent.percentage()"
   ]
  },
  {
   "cell_type": "code",
   "execution_count": 118,
   "id": "95491d1c-0643-465f-bfe0-11383f9cfdbd",
   "metadata": {},
   "outputs": [
    {
     "name": "stdin",
     "output_type": "stream",
     "text": [
      "Enter the base: 32\n",
      "Enter the height: 34\n"
     ]
    },
    {
     "name": "stdout",
     "output_type": "stream",
     "text": [
      "area of triangle = (base*height)/2;\n",
      "area of triangle = 544.0\n"
     ]
    },
    {
     "name": "stdin",
     "output_type": "stream",
     "text": [
      "Enter the height1: 2\n",
      "Enter the height2: 4\n",
      "Enter the height3: 4\n"
     ]
    },
    {
     "name": "stdout",
     "output_type": "stream",
     "text": [
      "perimeter of triangle = (height1+height2+height3)\n",
      "perimeter of triangle = 10\n"
     ]
    }
   ],
   "source": [
    "#\n",
    "#perimeter of triangle = (a+b+c)\n",
    "\n",
    "class Traingle():\n",
    "    def area():\n",
    "        base=int(input(\"Enter the base:\"))\n",
    "        height=int(input(\"Enter the height:\"))\n",
    "        print(\"area of triangle = (base*height)/2;\")\n",
    "        area_tria=float(base*height)/2\n",
    "        print(f\"area of triangle = {area_tria}\")\n",
    "\n",
    "    def perimeter():\n",
    "        height1=(int(input(\"Enter the height1:\")))\n",
    "        height2=(int(input(\"Enter the height2:\")))\n",
    "        height3=(int(input(\"Enter the height3:\")))\n",
    "        print(\"perimeter of triangle = (height1+height2+height3)\")\n",
    "        peri_tria= height1+height2+height3\n",
    "        print(f\"perimeter of triangle = {peri_tria}\")\n",
    "        return\n",
    "\n",
    "Traingle.area()\n",
    "Traingle.perimeter()\n",
    "\n",
    "        \n",
    "        \n"
   ]
  },
  {
   "cell_type": "code",
   "execution_count": null,
   "id": "e05d2c6a-22c0-4ca0-8444-132ab79b20a4",
   "metadata": {},
   "outputs": [],
   "source": []
  },
  {
   "cell_type": "code",
   "execution_count": null,
   "id": "45bdd7d6-9a3a-4caa-9094-ff070f56737c",
   "metadata": {},
   "outputs": [],
   "source": []
  },
  {
   "cell_type": "code",
   "execution_count": null,
   "id": "8d993d71-3621-4dab-88ab-e5706d08ee59",
   "metadata": {},
   "outputs": [],
   "source": []
  },
  {
   "cell_type": "code",
   "execution_count": null,
   "id": "daaacc97-461d-46d2-91c4-4c2d062c2501",
   "metadata": {},
   "outputs": [],
   "source": []
  },
  {
   "cell_type": "code",
   "execution_count": null,
   "id": "b0795ae2-1c73-474a-823c-8318e9ed30b5",
   "metadata": {},
   "outputs": [],
   "source": []
  }
 ],
 "metadata": {
  "kernelspec": {
   "display_name": "Python 3 (ipykernel)",
   "language": "python",
   "name": "python3"
  },
  "language_info": {
   "codemirror_mode": {
    "name": "ipython",
    "version": 3
   },
   "file_extension": ".py",
   "mimetype": "text/x-python",
   "name": "python",
   "nbconvert_exporter": "python",
   "pygments_lexer": "ipython3",
   "version": "3.13.5"
  }
 },
 "nbformat": 4,
 "nbformat_minor": 5
}
