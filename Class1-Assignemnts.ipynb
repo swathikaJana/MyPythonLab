{
 "cells": [
  {
   "cell_type": "code",
   "execution_count": 1,
   "id": "ed09e4c8-2555-4011-842d-8d97f5b2f184",
   "metadata": {},
   "outputs": [
    {
     "name": "stdout",
     "output_type": "stream",
     "text": [
      "Sub-fields in AI are:\n",
      "Machine Learning\n",
      "Neural Networks\n",
      "Vision\n",
      "Robotics\n",
      "Speech Programming\n",
      "Natural Language Processing\n"
     ]
    }
   ],
   "source": [
    "class SubfieldsInAI():\n",
    "    def Subfields():\n",
    "        field=['Machine Learning', 'Neural Networks', 'Vision', 'Robotics', 'Speech Programming' ,'Natural Language Processing']\n",
    "        print(\"Sub-fields in AI are:\")\n",
    "        for i in field:\n",
    "            print(i)\n",
    "\n",
    "SubfieldsInAI.Subfields()  "
   ]
  },
  {
   "cell_type": "code",
   "execution_count": 4,
   "id": "477403f6-c25c-44e5-bb70-276fe80307b8",
   "metadata": {},
   "outputs": [
    {
     "name": "stdin",
     "output_type": "stream",
     "text": [
      "Enter a number 52452\n"
     ]
    },
    {
     "name": "stdout",
     "output_type": "stream",
     "text": [
      "52452 is an even number\n"
     ]
    }
   ],
   "source": [
    "class OddEven():\n",
    "    def OddEven():\n",
    "        num=int(input(\"Enter a number\"))\n",
    "        if(num%2==0):\n",
    "           print(num,\"is an even number\")\n",
    "        else:\n",
    "           print(num,\"is an odd number\")\n",
    "OddEven.OddEven()"
   ]
  },
  {
   "cell_type": "code",
   "execution_count": 12,
   "id": "e45901f3-ae36-4a0e-96dd-79e1f52d2111",
   "metadata": {},
   "outputs": [
    {
     "name": "stdin",
     "output_type": "stream",
     "text": [
      "Enter the Gender Male\n",
      "Enter the Age 28\n"
     ]
    },
    {
     "name": "stdout",
     "output_type": "stream",
     "text": [
      "ELIGIBLE for Marriage\n"
     ]
    }
   ],
   "source": [
    "class EligiblityForMarriage():\n",
    "    def Eligible_for_Male(Gender,Age):\n",
    "        if(Age>27):\n",
    "          print(\"ELIGIBLE for Marriage\")\n",
    "        else:\n",
    "          print(\"Not Eligible For Marriage\")\n",
    "     \n",
    "    def Eligible_for_FeMale(Gender,Age):\n",
    "        if(Age>21):\n",
    "          print(\"ELIGIBLE for Marriage\")\n",
    "        else:\n",
    "          print(\"Not Eligible For Marriage\")\n",
    "\n",
    "Gender=input(\"Enter the Gender\")\n",
    "Age=int(input(\"Enter the Age\"))\n",
    "if(Gender==\"Male\"):\n",
    "  EligiblityForMarriage.Eligible_for_Male(Gender,Age)\n",
    "else:\n",
    "  EligiblityForMarriage.Eligible_for_FeMale(Gender,Age)"
   ]
  },
  {
   "cell_type": "code",
   "execution_count": 14,
   "id": "2f44f131-0fba-45df-9a69-2fec71f4be79",
   "metadata": {},
   "outputs": [
    {
     "name": "stdin",
     "output_type": "stream",
     "text": [
      "Subject 1: 98\n",
      "Subject 2: 87\n",
      "Subject 3: 95\n",
      "Subject 4: 95\n",
      "Subject 5: 93\n"
     ]
    },
    {
     "name": "stdout",
     "output_type": "stream",
     "text": [
      "468\n",
      "Percentage :93.60000000000001%\n"
     ]
    }
   ],
   "source": [
    "numbers=[]\n",
    " \n",
    "class FindPercent():\n",
    "    def percentage(): \n",
    "        for i in range(5):\n",
    "            Sub=int(input(f\"Subject {i+1}:\"))\n",
    "            numbers.append(Sub)       \n",
    "            \n",
    "        Total=sum(numbers)\n",
    "        print(Total)\n",
    "        percent=(Total/500)*100\n",
    "        print(f\"Percentage :{percent}%\")\n",
    "FindPercent.percentage()"
   ]
  },
  {
   "cell_type": "code",
   "execution_count": 16,
   "id": "766dfe89-a3b5-4d3b-adb4-d934e3301ea5",
   "metadata": {},
   "outputs": [
    {
     "name": "stdin",
     "output_type": "stream",
     "text": [
      "Enter the base: 34\n",
      "Enter the height: 32\n"
     ]
    },
    {
     "name": "stdout",
     "output_type": "stream",
     "text": [
      "area of triangle = (base*height)/2;\n",
      "area of triangle = 544.0\n"
     ]
    },
    {
     "name": "stdin",
     "output_type": "stream",
     "text": [
      "Enter the height1: 2\n",
      "Enter the height2: 4\n",
      "Enter the height3: 4\n"
     ]
    },
    {
     "name": "stdout",
     "output_type": "stream",
     "text": [
      "perimeter of triangle = (height1+height2+height3)\n",
      "perimeter of triangle = 10\n"
     ]
    }
   ],
   "source": [
    "class Traingle():\n",
    "    def area():\n",
    "        base=int(input(\"Enter the base:\"))\n",
    "        height=int(input(\"Enter the height:\"))\n",
    "        print(\"area of triangle = (base*height)/2;\")\n",
    "        area_tria=float(base*height)/2\n",
    "        print(f\"area of triangle = {area_tria}\")\n",
    "\n",
    "    def perimeter():\n",
    "        height1=(int(input(\"Enter the height1:\")))\n",
    "        height2=(int(input(\"Enter the height2:\")))\n",
    "        height3=(int(input(\"Enter the height3:\")))\n",
    "        print(\"perimeter of triangle = (height1+height2+height3)\")\n",
    "        peri_tria= height1+height2+height3\n",
    "        print(f\"perimeter of triangle = {peri_tria}\")\n",
    "        return\n",
    "\n",
    "Traingle.area()\n",
    "Traingle.perimeter()\n",
    "\n",
    "        "
   ]
  },
  {
   "cell_type": "code",
   "execution_count": null,
   "id": "8968a26d-56b4-4b97-bfa1-07dd36ae4b55",
   "metadata": {},
   "outputs": [],
   "source": []
  }
 ],
 "metadata": {
  "kernelspec": {
   "display_name": "Python 3 (ipykernel)",
   "language": "python",
   "name": "python3"
  },
  "language_info": {
   "codemirror_mode": {
    "name": "ipython",
    "version": 3
   },
   "file_extension": ".py",
   "mimetype": "text/x-python",
   "name": "python",
   "nbconvert_exporter": "python",
   "pygments_lexer": "ipython3",
   "version": "3.13.5"
  }
 },
 "nbformat": 4,
 "nbformat_minor": 5
}
