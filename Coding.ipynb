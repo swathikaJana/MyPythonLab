{
 "cells": [
  {
   "cell_type": "code",
   "execution_count": 8,
   "id": "23dedbf7-7375-4d6e-8caa-cdacb8585185",
   "metadata": {},
   "outputs": [
    {
     "name": "stdout",
     "output_type": "stream",
     "text": [
      "1\n",
      "2\n",
      "3\n",
      "4\n",
      "5\n"
     ]
    }
   ],
   "source": [
    "#1.Write a Python program that prints numbers from 1 to 5.\n",
    "i=1\n",
    "for i in range(1,6):\n",
    "    print (i)\n",
    "\n"
   ]
  },
  {
   "cell_type": "code",
   "execution_count": 12,
   "id": "a6626a67-1544-4163-b550-fdc8d1c9d881",
   "metadata": {},
   "outputs": [
    {
     "name": "stdout",
     "output_type": "stream",
     "text": [
      "2\n",
      "4\n",
      "6\n",
      "8\n",
      "10\n"
     ]
    }
   ],
   "source": [
    "#2.Write a Python program to print the first 5 even numbers. Expected Output:\n",
    "#2 4 6 8 10\n",
    "\n",
    "i=2\n",
    "for i in range(1,6):\n",
    "        print (2*i)\n"
   ]
  },
  {
   "cell_type": "code",
   "execution_count": 17,
   "id": "430ba862-f187-4d23-9e95-1431199d4bef",
   "metadata": {},
   "outputs": [
    {
     "name": "stdout",
     "output_type": "stream",
     "text": [
      "55\n"
     ]
    }
   ],
   "source": [
    "#3.Write a Python program to print the sum of numbers from 1 to 10. \n",
    "total = 0\n",
    "for i in range(1,11):\n",
    "    total += i\n",
    "print(total)    \n"
   ]
  },
  {
   "cell_type": "code",
   "execution_count": 19,
   "id": "54cf49ff-90cd-4390-b661-c06a4daf1bd9",
   "metadata": {},
   "outputs": [
    {
     "name": "stdout",
     "output_type": "stream",
     "text": [
      "120\n"
     ]
    }
   ],
   "source": [
    "#4.Write a Python function to find the factorial of 5. Expected Output:\n",
    "factorial = 1\n",
    "for i in range(1,6):\n",
    "    factorial *= i\n",
    "print(factorial)    \n"
   ]
  },
  {
   "cell_type": "code",
   "execution_count": 20,
   "id": "ac0ea7c2-2c4f-4749-8d1c-493b3f030522",
   "metadata": {},
   "outputs": [
    {
     "name": "stdin",
     "output_type": "stream",
     "text": [
      "Enter a number:  2\n"
     ]
    },
    {
     "name": "stdout",
     "output_type": "stream",
     "text": [
      "2 is a PRIME number\n"
     ]
    }
   ],
   "source": [
    "#5.Write a Python program to check if a number is prime. Expected Output (for input 7):\n",
    "\n",
    "\n",
    "\n",
    "num = int(input(\"Enter a number: \"))\n",
    "\n",
    "if num > 1:\n",
    "    for i in range(2, int(num ** 0.5) + 1):  # check up to sqrt(num)\n",
    "        if num % i == 0:\n",
    "            print(f\"{num} is NOT a prime number\")\n",
    "            break\n",
    "    else:\n",
    "        print(f\"{num} is a PRIME number\")\n",
    "else:\n",
    "    print(\"Number must be greater than 1\")\n",
    "\n"
   ]
  },
  {
   "cell_type": "code",
   "execution_count": null,
   "id": "8a95fbd8-7c45-4d22-94f6-cea6a02607da",
   "metadata": {},
   "outputs": [],
   "source": []
  }
 ],
 "metadata": {
  "kernelspec": {
   "display_name": "Python 3 (ipykernel)",
   "language": "python",
   "name": "python3"
  },
  "language_info": {
   "codemirror_mode": {
    "name": "ipython",
    "version": 3
   },
   "file_extension": ".py",
   "mimetype": "text/x-python",
   "name": "python",
   "nbconvert_exporter": "python",
   "pygments_lexer": "ipython3",
   "version": "3.13.5"
  }
 },
 "nbformat": 4,
 "nbformat_minor": 5
}
