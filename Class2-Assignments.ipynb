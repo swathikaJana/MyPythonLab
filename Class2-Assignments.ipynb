{
 "cells": [
  {
   "cell_type": "code",
   "execution_count": 49,
   "id": "d2a94440-1382-4e75-8bc5-4976cfdcfae1",
   "metadata": {},
   "outputs": [],
   "source": [
    "from MF1 import multifunction"
   ]
  },
  {
   "cell_type": "code",
   "execution_count": 47,
   "id": "094ef947-ec97-408b-bdbe-a6ac0c5edec0",
   "metadata": {},
   "outputs": [
    {
     "name": "stdout",
     "output_type": "stream",
     "text": [
      "Sub-fields in AI are:\n",
      "Machine Learning\n",
      "Neural Networks\n",
      "Vision\n",
      "Robotics\n",
      "Speech Programming\n",
      "Natural Language Processing\n"
     ]
    }
   ],
   "source": [
    "multifunction.Subfields()"
   ]
  },
  {
   "cell_type": "code",
   "execution_count": 48,
   "id": "80d90950-913b-48e7-961b-38c42b063fa5",
   "metadata": {},
   "outputs": [
    {
     "name": "stdin",
     "output_type": "stream",
     "text": [
      "Enter a number 10\n"
     ]
    },
    {
     "name": "stdout",
     "output_type": "stream",
     "text": [
      "10 is an even number\n"
     ]
    }
   ],
   "source": [
    "multifunction.OddEven()"
   ]
  },
  {
   "cell_type": "code",
   "execution_count": 12,
   "id": "44f59a49-33f4-44e2-aa36-a786c4d2207c",
   "metadata": {},
   "outputs": [
    {
     "name": "stdin",
     "output_type": "stream",
     "text": [
      "Enter the Gender Male\n",
      "Enter the Age 28\n"
     ]
    },
    {
     "name": "stdout",
     "output_type": "stream",
     "text": [
      "ELIGIBLE for Marriage\n"
     ]
    }
   ],
   "source": [
    "Gender=input(\"Enter the Gender\")\n",
    "Age=int(input(\"Enter the Age\"))\n",
    "if(Gender==\"Male\"):\n",
    "    multifunction.Eligible_for_Male(Gender,Age)\n",
    "else:\n",
    "    multifunction.Eligible_for_FeMale(Gender,Age)"
   ]
  },
  {
   "cell_type": "code",
   "execution_count": 52,
   "id": "b164d6e7-7bf8-4da5-91ac-f5ae7ba57be6",
   "metadata": {},
   "outputs": [
    {
     "name": "stdin",
     "output_type": "stream",
     "text": [
      "Subject1: 98\n",
      "Subject2: 87\n",
      "Subject3: 95\n",
      "Subject4: 93\n",
      "Subject5: 95\n"
     ]
    },
    {
     "name": "stdout",
     "output_type": "stream",
     "text": [
      "Total : 468\n",
      "Percentage :93.60000000000001%\n"
     ]
    }
   ],
   "source": [
    "multifunction.percentage1()"
   ]
  },
  {
   "cell_type": "code",
   "execution_count": 54,
   "id": "5c01ccab-044b-4285-959b-7fc601946faa",
   "metadata": {},
   "outputs": [
    {
     "name": "stdin",
     "output_type": "stream",
     "text": [
      "Enter the base: 34\n",
      "Enter the height: 32\n"
     ]
    },
    {
     "name": "stdout",
     "output_type": "stream",
     "text": [
      "area of triangle = (base*height)/2;\n",
      "area of triangle = 544.0\n"
     ]
    },
    {
     "name": "stdin",
     "output_type": "stream",
     "text": [
      "Enter the height1: 2\n",
      "Enter the height2: 4\n",
      "Enter the height3: 4\n"
     ]
    },
    {
     "name": "stdout",
     "output_type": "stream",
     "text": [
      "perimeter of triangle = (height1+height2+height3)\n",
      "perimeter of triangle = 10\n"
     ]
    }
   ],
   "source": [
    "multifunction.area()\n",
    "multifunction.perimeter()"
   ]
  },
  {
   "cell_type": "code",
   "execution_count": null,
   "id": "4f9c8742-a1a3-47c8-b5da-72d84c88b5dc",
   "metadata": {},
   "outputs": [],
   "source": []
  }
 ],
 "metadata": {
  "kernelspec": {
   "display_name": "Python 3 (ipykernel)",
   "language": "python",
   "name": "python3"
  },
  "language_info": {
   "codemirror_mode": {
    "name": "ipython",
    "version": 3
   },
   "file_extension": ".py",
   "mimetype": "text/x-python",
   "name": "python",
   "nbconvert_exporter": "python",
   "pygments_lexer": "ipython3",
   "version": "3.13.5"
  }
 },
 "nbformat": 4,
 "nbformat_minor": 5
}
